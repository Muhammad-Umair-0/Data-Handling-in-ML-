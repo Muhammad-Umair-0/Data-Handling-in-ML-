{
 "cells": [
  {
   "cell_type": "code",
   "execution_count": 1,
   "metadata": {},
   "outputs": [],
   "source": [
    "import numpy as np\n",
    "import seaborn as sns\n"
   ]
  },
  {
   "cell_type": "code",
   "execution_count": 2,
   "metadata": {},
   "outputs": [
    {
     "data": {
      "text/plain": [
       "array([ 1,  2,  3,  4,  5,  6, 50])"
      ]
     },
     "execution_count": 2,
     "metadata": {},
     "output_type": "execute_result"
    }
   ],
   "source": [
    "data  = [6,2,3,4,5,1,50]\n",
    "# sorting the data\n",
    "sort_data = np.sort(data)\n",
    "sort_data"
   ]
  },
  {
   "cell_type": "code",
   "execution_count": 6,
   "metadata": {},
   "outputs": [
    {
     "name": "stdout",
     "output_type": "stream",
     "text": [
      "The Q1 is:   2.5\n",
      "The Q2 is:   4.0\n",
      "The Q3 is:   5.5\n",
      "IQR is:   3.0\n"
     ]
    }
   ],
   "source": [
    "# calculating Q1,Q2,Q3 and IQR\n",
    "Q1 = np.percentile(data, 25, interpolation='midpoint')\n",
    "Q2 = np.percentile(data, 50, interpolation='midpoint')\n",
    "Q3 = np.percentile(data, 75, interpolation='midpoint')\n",
    "\n",
    "print('The Q1 is:  ',Q1)\n",
    "print('The Q2 is:  ',Q2)\n",
    "print('The Q3 is:  ',Q3)\n",
    "\n",
    "IQR = Q3-Q1\n",
    "print(\"IQR is:  \",IQR)"
   ]
  },
  {
   "cell_type": "code",
   "execution_count": 10,
   "metadata": {},
   "outputs": [
    {
     "name": "stdout",
     "output_type": "stream",
     "text": [
      "lower limit is -2.0\n",
      "Upper limit   10.0\n"
     ]
    }
   ],
   "source": [
    "# finding the lower and upper bound\n",
    "low_limit = Q1-1.5* IQR\n",
    "upper_lim = Q3+ 1.5 * IQR\n",
    "\n",
    "print('lower limit is', low_limit)\n",
    "print('Upper limit  ',upper_lim)"
   ]
  },
  {
   "cell_type": "code",
   "execution_count": 13,
   "metadata": {},
   "outputs": [
    {
     "name": "stdout",
     "output_type": "stream",
     "text": [
      "The outlier is  [50]\n"
     ]
    }
   ],
   "source": [
    "# identifying upper limit \n",
    "outliers =[]\n",
    "for x in data:\n",
    "    if((x>upper_lim) or (x<low_limit)):\n",
    "        outliers.append(x)\n",
    "print('The outlier is ',outliers)"
   ]
  },
  {
   "cell_type": "code",
   "execution_count": 14,
   "metadata": {},
   "outputs": [
    {
     "data": {
      "text/plain": [
       "<Axes: >"
      ]
     },
     "execution_count": 14,
     "metadata": {},
     "output_type": "execute_result"
    },
    {
     "data": {
      "image/png": "[encoded data removed]",
      "text/plain": [
       "<Figure size 640x480 with 1 Axes>"
      ]
     },
     "metadata": {},
     "output_type": "display_data"
    }
   ],
   "source": [
    "# Box plot to identify the outliers\n",
    "sns.boxplot(data)"
   ]
  },
  {
   "cell_type": "code",
   "execution_count": null,
   "metadata": {},
   "outputs": [],
   "source": []
  }
 ],
 "metadata": {
  "kernelspec": {
   "display_name": "base",
   "language": "python",
   "name": "python3"
  },
  "language_info": {
   "codemirror_mode": {
    "name": "ipython",
    "version": 3
   },
   "file_extension": ".py",
   "mimetype": "text/x-python",
   "name": "python",
   "nbconvert_exporter": "python",
   "pygments_lexer": "ipython3",
   "version": "3.12.7"
  }
 },
 "nbformat": 4,
 "nbformat_minor": 2
}
